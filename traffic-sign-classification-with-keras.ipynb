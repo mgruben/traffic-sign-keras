{
 "cells": [
  {
   "cell_type": "markdown",
   "metadata": {},
   "source": [
    "# Traffic Sign Classification with Keras\n",
    "\n",
    "Keras exists to make coding deep neural networks simpler. To demonstrate just how easy it is, you’re going to use Keras to build a convolutional neural network in a few dozen lines of code.\n",
    "\n",
    "You’ll be connecting the concepts from the previous lessons to the methods that Keras provides."
   ]
  },
  {
   "cell_type": "markdown",
   "metadata": {},
   "source": [
    "## Dataset\n",
    "\n",
    "The network you'll build with Keras is similar to the example that you can find in Keras’s GitHub repository that builds out a [convolutional neural network for MNIST](https://github.com/fchollet/keras/blob/master/examples/mnist_cnn.py). \n",
    "\n",
    "However, instead of using the [MNIST](http://yann.lecun.com/exdb/mnist/) dataset, you're going to use the [German Traffic Sign Recognition Benchmark](http://benchmark.ini.rub.de/?section=gtsrb&subsection=news) dataset that you've used previously.\n",
    "\n",
    "You can download pickle files with sanitized traffic sign data here."
   ]
  },
  {
   "cell_type": "markdown",
   "metadata": {},
   "source": [
    "## Overview\n",
    "\n",
    "Here are the steps you'll take to build the network:\n",
    "\n",
    "1. First load the training data and do a train/validation split.\n",
    "2. Preprocess data.\n",
    "3. Build a feedforward neural network to classify traffic signs.\n",
    "4. Build a convolutional neural network to classify traffic signs.\n",
    "5. Evaluate performance of final neural network on testing data.\n",
    "\n",
    "Keep an eye on the network’s accuracy over time. Once the accuracy reaches the 98% range, you can be confident that you’ve built and trained an effective model."
   ]
  },
  {
   "cell_type": "code",
   "execution_count": 1,
   "metadata": {
    "collapsed": false
   },
   "outputs": [],
   "source": [
    "import pickle\n",
    "import numpy as np\n",
    "from sklearn.model_selection import train_test_split\n",
    "import math"
   ]
  },
  {
   "cell_type": "markdown",
   "metadata": {},
   "source": [
    "## Load the Data\n",
    "\n",
    "Start by importing the data from the pickle file."
   ]
  },
  {
   "cell_type": "code",
   "execution_count": 2,
   "metadata": {
    "collapsed": false
   },
   "outputs": [],
   "source": [
    "# TODO: Implement load the data here.\n",
    "with open('train.p', 'rb') as f:\n",
    "    data = pickle.load(f)"
   ]
  },
  {
   "cell_type": "code",
   "execution_count": 10,
   "metadata": {
    "collapsed": false
   },
   "outputs": [
    {
     "data": {
      "text/plain": [
       "dict_keys(['labels', 'features'])"
      ]
     },
     "execution_count": 10,
     "metadata": {},
     "output_type": "execute_result"
    }
   ],
   "source": [
    "data.keys()"
   ]
  },
  {
   "cell_type": "markdown",
   "metadata": {},
   "source": [
    "## Validate the Network\n",
    "Split the training data into a training and validation set.\n",
    "\n",
    "Measure the [validation accuracy](https://keras.io/models/sequential/) of the network after two training epochs.\n",
    "\n",
    "Hint: [Use the `train_test_split()` method](http://scikit-learn.org/stable/modules/generated/sklearn.model_selection.train_test_split.html) from scikit-learn."
   ]
  },
  {
   "cell_type": "code",
   "execution_count": 23,
   "metadata": {
    "collapsed": true
   },
   "outputs": [],
   "source": [
    "X_train, X_val, y_train, y_val = train_test_split(data['features'], data['labels'], random_state=42)"
   ]
  },
  {
   "cell_type": "code",
   "execution_count": 7,
   "metadata": {
    "collapsed": false
   },
   "outputs": [],
   "source": [
    "# STOP: Do not change the tests below. Your implementation should pass these tests. \n",
    "assert(X_train.shape[0] == y_train.shape[0]), \"The number of images is not equal to the number of labels.\"\n",
    "assert(X_train.shape[1:] == (32,32,3)), \"The dimensions of the images are not 32 x 32 x 3.\"\n",
    "assert(X_val.shape[0] == y_val.shape[0]), \"The number of images is not equal to the number of labels.\"\n",
    "assert(X_val.shape[1:] == (32,32,3)), \"The dimensions of the images are not 32 x 32 x 3.\""
   ]
  },
  {
   "cell_type": "markdown",
   "metadata": {},
   "source": [
    "## Preprocess the Data\n",
    "\n",
    "Now that you've loaded the training data, preprocess the data such that it's in the range between -0.5 and 0.5."
   ]
  },
  {
   "cell_type": "code",
   "execution_count": 24,
   "metadata": {
    "collapsed": false
   },
   "outputs": [
    {
     "data": {
      "text/plain": [
       "(29406, 32, 32, 3)"
      ]
     },
     "execution_count": 24,
     "metadata": {},
     "output_type": "execute_result"
    }
   ],
   "source": [
    "X_train.shape"
   ]
  },
  {
   "cell_type": "code",
   "execution_count": 25,
   "metadata": {
    "collapsed": false
   },
   "outputs": [
    {
     "data": {
      "text/plain": [
       "numpy.ndarray"
      ]
     },
     "execution_count": 25,
     "metadata": {},
     "output_type": "execute_result"
    }
   ],
   "source": [
    "type(X_train)"
   ]
  },
  {
   "cell_type": "code",
   "execution_count": 27,
   "metadata": {
    "collapsed": false,
    "scrolled": true
   },
   "outputs": [
    {
     "data": {
      "text/plain": [
       "array([[[ 76,  89, 111],\n",
       "        [ 75,  90, 110],\n",
       "        [ 75,  88, 109],\n",
       "        ..., \n",
       "        [ 76,  88, 109],\n",
       "        [ 75,  88, 108],\n",
       "        [ 76,  87, 106]],\n",
       "\n",
       "       [[ 73,  87, 107],\n",
       "        [ 77,  88, 108],\n",
       "        [ 74,  85, 105],\n",
       "        ..., \n",
       "        [ 75,  89, 109],\n",
       "        [ 74,  89, 110],\n",
       "        [ 75,  88, 109]],\n",
       "\n",
       "       [[ 74,  85, 103],\n",
       "        [ 74,  85, 103],\n",
       "        [ 70,  81, 101],\n",
       "        ..., \n",
       "        [ 75,  89, 107],\n",
       "        [ 75,  89, 109],\n",
       "        [ 74,  87, 109]],\n",
       "\n",
       "       ..., \n",
       "       [[ 81,  95, 116],\n",
       "        [ 79,  92, 113],\n",
       "        [ 79,  90, 110],\n",
       "        ..., \n",
       "        [ 76,  91, 112],\n",
       "        [ 78,  89, 109],\n",
       "        [ 75,  88, 107]],\n",
       "\n",
       "       [[ 78,  90, 110],\n",
       "        [ 82,  95, 115],\n",
       "        [ 77,  87, 108],\n",
       "        ..., \n",
       "        [ 76,  90, 112],\n",
       "        [ 79,  91, 110],\n",
       "        [ 78,  90, 108]],\n",
       "\n",
       "       [[ 75,  86, 110],\n",
       "        [ 76,  85,  99],\n",
       "        [ 49,  54,  60],\n",
       "        ..., \n",
       "        [ 73,  84,  98],\n",
       "        [ 64,  72,  85],\n",
       "        [ 64,  79,  95]]], dtype=uint8)"
      ]
     },
     "execution_count": 27,
     "metadata": {},
     "output_type": "execute_result"
    }
   ],
   "source": [
    "X_train[1]"
   ]
  },
  {
   "cell_type": "code",
   "execution_count": 28,
   "metadata": {
    "collapsed": false,
    "scrolled": true
   },
   "outputs": [
    {
     "data": {
      "text/plain": [
       "array([[ 76,  89, 111],\n",
       "       [ 75,  90, 110],\n",
       "       [ 75,  88, 109],\n",
       "       [ 74,  85, 106],\n",
       "       [ 73,  84, 105],\n",
       "       [ 74,  85, 110],\n",
       "       [ 74,  87, 110],\n",
       "       [ 75,  85, 101],\n",
       "       [ 70,  81,  94],\n",
       "       [ 66,  79,  98],\n",
       "       [ 70,  83,  99],\n",
       "       [ 69,  80,  94],\n",
       "       [ 69,  80,  96],\n",
       "       [ 67,  81,  99],\n",
       "       [ 72,  87, 106],\n",
       "       [ 76,  86, 104],\n",
       "       [ 72,  79,  96],\n",
       "       [ 62,  76,  93],\n",
       "       [ 68,  82,  98],\n",
       "       [ 71,  81,  98],\n",
       "       [ 70,  81,  98],\n",
       "       [ 69,  83, 101],\n",
       "       [ 72,  86, 108],\n",
       "       [ 75,  88, 108],\n",
       "       [ 72,  86, 104],\n",
       "       [ 71,  84, 102],\n",
       "       [ 71,  85, 104],\n",
       "       [ 74,  88, 107],\n",
       "       [ 75,  88, 109],\n",
       "       [ 76,  88, 109],\n",
       "       [ 75,  88, 108],\n",
       "       [ 76,  87, 106]], dtype=uint8)"
      ]
     },
     "execution_count": 28,
     "metadata": {},
     "output_type": "execute_result"
    }
   ],
   "source": [
    "X_train[1][0]"
   ]
  },
  {
   "cell_type": "code",
   "execution_count": 29,
   "metadata": {
    "collapsed": false
   },
   "outputs": [
    {
     "data": {
      "text/plain": [
       "array([ 76,  89, 111], dtype=uint8)"
      ]
     },
     "execution_count": 29,
     "metadata": {},
     "output_type": "execute_result"
    }
   ],
   "source": [
    "X_train[1][0][0]"
   ]
  },
  {
   "cell_type": "code",
   "execution_count": 34,
   "metadata": {
    "collapsed": false
   },
   "outputs": [],
   "source": [
    "X_train = X_train.astype('float32')\n",
    "X_val = X_val.astype('float32')\n",
    "norm = lambda x: x / 255. - 0.5\n",
    "X_train = norm(X_train)\n",
    "X_val = norm(X_val)"
   ]
  },
  {
   "cell_type": "code",
   "execution_count": 35,
   "metadata": {
    "collapsed": false
   },
   "outputs": [],
   "source": [
    "# STOP: Do not change the tests below. Your implementation should pass these tests. \n",
    "assert(math.isclose(np.min(X_train), -0.5, abs_tol=1e-5) and math.isclose(np.max(X_train), 0.5, abs_tol=1e-5)), \"The range of the training data is: %.1f to %.1f\" % (np.min(X_train), np.max(X_train))\n",
    "assert(math.isclose(np.min(X_val), -0.5, abs_tol=1e-5) and math.isclose(np.max(X_val), 0.5, abs_tol=1e-5)), \"The range of the validation data is: %.1f to %.1f\" % (np.min(X_val), np.max(X_val))"
   ]
  },
  {
   "cell_type": "markdown",
   "metadata": {},
   "source": [
    "## Build a Two-Layer Feedfoward Network\n",
    "\n",
    "The code you've written so far is for data processing, not specific to Keras. Here you're going to build Keras-specific code.\n",
    "\n",
    "Build a two-layer feedforward neural network, with 128 neurons in the fully-connected hidden layer. \n",
    "\n",
    "To get started, review the Keras documentation about [models](https://keras.io/models/sequential/) and [layers](https://keras.io/layers/core/).\n",
    "\n",
    "The Keras example of a [Multi-Layer Perceptron](https://github.com/fchollet/keras/blob/master/examples/mnist_mlp.py) network is similar to what you need to do here. Use that as a guide, but keep in mind that there are a number of differences."
   ]
  },
  {
   "cell_type": "code",
   "execution_count": null,
   "metadata": {
    "collapsed": true
   },
   "outputs": [],
   "source": [
    "# TODO: Build a two-layer feedforward neural network with Keras here.\n",
    "from keras.models import Sequential\n",
    "from keras.layers import Dense, Input, Activation"
   ]
  },
  {
   "cell_type": "code",
   "execution_count": 40,
   "metadata": {
    "collapsed": false
   },
   "outputs": [],
   "source": [
    "model = Sequential()\n",
    "model.add(Dense(128, input_shape=(32*32*3,)))\n",
    "model.add(Activation('relu'))\n",
    "model.add(Dense(43))\n",
    "model.add(Activation('softmax'))"
   ]
  },
  {
   "cell_type": "code",
   "execution_count": 41,
   "metadata": {
    "collapsed": true
   },
   "outputs": [],
   "source": [
    "# STOP: Do not change the tests below. Your implementation should pass these tests.\n",
    "dense_layers = []\n",
    "for l in model.layers:\n",
    "    if type(l) == Dense:\n",
    "        dense_layers.append(l)\n",
    "assert(len(dense_layers) == 2), \"There should be 2 Dense layers.\"\n",
    "d1 = dense_layers[0]\n",
    "d2 = dense_layers[1]\n",
    "assert(d1.input_shape == (None, 3072))\n",
    "assert(d1.output_shape == (None, 128))\n",
    "assert(d2.input_shape == (None, 128))\n",
    "assert(d2.output_shape == (None, 43))\n",
    "\n",
    "last_layer = model.layers[-1]\n",
    "assert(last_layer.activation.__name__ == 'softmax'), \"Last layer should be softmax activation, is {}.\".format(last_layer.activation.__name__)"
   ]
  },
  {
   "cell_type": "code",
   "execution_count": 42,
   "metadata": {
    "collapsed": false
   },
   "outputs": [
    {
     "name": "stdout",
     "output_type": "stream",
     "text": [
      "dense_5 (None, 3072) (None, 128) <function linear at 0x7f328ce66d90>\n",
      "activation_3 (None, 128) (None, 128) <function relu at 0x7f328ce66b70>\n",
      "dense_6 (None, 128) (None, 43) <function linear at 0x7f328ce66d90>\n",
      "activation_4 (None, 43) (None, 43) <function softmax at 0x7f328ce66950>\n"
     ]
    }
   ],
   "source": [
    "# Debugging\n",
    "for l in model.layers:\n",
    "    print(l.name, l.input_shape, l.output_shape, l.activation)"
   ]
  },
  {
   "cell_type": "markdown",
   "metadata": {},
   "source": [
    "## Train the Network\n",
    "Compile and train the network for 2 epochs. [Use the `adam` optimizer, with `categorical_crossentropy` loss.](https://keras.io/models/sequential/)\n",
    "\n",
    "Hint 1: In order to use categorical cross entropy, you will need to [one-hot encode the labels](https://github.com/fchollet/keras/blob/master/keras/utils/np_utils.py).\n",
    "\n",
    "Hint 2: In order to pass the input images to the fully-connected hidden layer, you will need to [reshape the input](https://github.com/fchollet/keras/blob/master/examples/mnist_mlp.py).\n",
    "\n",
    "Hint 3: Keras's `.fit()` method returns a `History.history` object, which the tests below use. Save that to a variable named `history`."
   ]
  },
  {
   "cell_type": "code",
   "execution_count": 43,
   "metadata": {
    "collapsed": false
   },
   "outputs": [
    {
     "name": "stdout",
     "output_type": "stream",
     "text": [
      "____________________________________________________________________________________________________\n",
      "Layer (type)                     Output Shape          Param #     Connected to                     \n",
      "====================================================================================================\n",
      "dense_5 (Dense)                  (None, 128)           393344      dense_input_3[0][0]              \n",
      "____________________________________________________________________________________________________\n",
      "activation_3 (Activation)        (None, 128)           0           dense_5[0][0]                    \n",
      "____________________________________________________________________________________________________\n",
      "dense_6 (Dense)                  (None, 43)            5547        activation_3[0][0]               \n",
      "____________________________________________________________________________________________________\n",
      "activation_4 (Activation)        (None, 43)            0           dense_6[0][0]                    \n",
      "====================================================================================================\n",
      "Total params: 398891\n",
      "____________________________________________________________________________________________________\n",
      "Train on 29406 samples, validate on 9803 samples\n",
      "Epoch 1/20\n",
      "29406/29406 [==============================] - 3s - loss: 1.8278 - acc: 0.5326 - val_loss: 1.1425 - val_acc: 0.7130\n",
      "Epoch 2/20\n",
      "29406/29406 [==============================] - 2s - loss: 0.8890 - acc: 0.7680 - val_loss: 0.7214 - val_acc: 0.8137\n",
      "Epoch 3/20\n",
      "29406/29406 [==============================] - 2s - loss: 0.6274 - acc: 0.8383 - val_loss: 0.5723 - val_acc: 0.8585\n",
      "Epoch 4/20\n",
      "29406/29406 [==============================] - 2s - loss: 0.4962 - acc: 0.8736 - val_loss: 0.5133 - val_acc: 0.8585\n",
      "Epoch 5/20\n",
      "29406/29406 [==============================] - 2s - loss: 0.4185 - acc: 0.8944 - val_loss: 0.4304 - val_acc: 0.8777\n",
      "Epoch 6/20\n",
      "29406/29406 [==============================] - 2s - loss: 0.3606 - acc: 0.9080 - val_loss: 0.3652 - val_acc: 0.9046\n",
      "Epoch 7/20\n",
      "29406/29406 [==============================] - 2s - loss: 0.3297 - acc: 0.9137 - val_loss: 0.3313 - val_acc: 0.9132\n",
      "Epoch 8/20\n",
      "29406/29406 [==============================] - 2s - loss: 0.2886 - acc: 0.9261 - val_loss: 0.3213 - val_acc: 0.9088\n",
      "Epoch 9/20\n",
      "29406/29406 [==============================] - 2s - loss: 0.2695 - acc: 0.9307 - val_loss: 0.2918 - val_acc: 0.9233\n",
      "Epoch 10/20\n",
      "29406/29406 [==============================] - 6s - loss: 0.2515 - acc: 0.9334 - val_loss: 0.2844 - val_acc: 0.9260\n",
      "Epoch 11/20\n",
      "29406/29406 [==============================] - 7s - loss: 0.2185 - acc: 0.9440 - val_loss: 0.2709 - val_acc: 0.9272\n",
      "Epoch 12/20\n",
      "29406/29406 [==============================] - 6s - loss: 0.2339 - acc: 0.9361 - val_loss: 0.2870 - val_acc: 0.9214\n",
      "Epoch 13/20\n",
      "29406/29406 [==============================] - 7s - loss: 0.2057 - acc: 0.9450 - val_loss: 0.2560 - val_acc: 0.9300\n",
      "Epoch 14/20\n",
      "29406/29406 [==============================] - 7s - loss: 0.1876 - acc: 0.9505 - val_loss: 0.2388 - val_acc: 0.9348\n",
      "Epoch 15/20\n",
      "29406/29406 [==============================] - 6s - loss: 0.1869 - acc: 0.9496 - val_loss: 0.2458 - val_acc: 0.9333\n",
      "Epoch 16/20\n",
      "29406/29406 [==============================] - 5s - loss: 0.1716 - acc: 0.9523 - val_loss: 0.2876 - val_acc: 0.9226\n",
      "Epoch 17/20\n",
      "29406/29406 [==============================] - 6s - loss: 0.1795 - acc: 0.9501 - val_loss: 0.3093 - val_acc: 0.9111\n",
      "Epoch 18/20\n",
      "29406/29406 [==============================] - 5s - loss: 0.1752 - acc: 0.9517 - val_loss: 0.2410 - val_acc: 0.9281\n",
      "Epoch 19/20\n",
      "29406/29406 [==============================] - 7s - loss: 0.1432 - acc: 0.9629 - val_loss: 0.2089 - val_acc: 0.9455\n",
      "Epoch 20/20\n",
      "29406/29406 [==============================] - 5s - loss: 0.1836 - acc: 0.9488 - val_loss: 0.2127 - val_acc: 0.9419\n"
     ]
    }
   ],
   "source": [
    "# TODO: Compile and train the model here.\n",
    "from keras.utils import np_utils\n",
    "\n",
    "# One-hot encode the labels\n",
    "Y_train = np_utils.to_categorical(y_train, 43)\n",
    "Y_val = np_utils.to_categorical(y_val, 43)\n",
    "\n",
    "# Reshapen die inputten\n",
    "X_train_flat = X_train.reshape(-1, 32*32*3)\n",
    "X_val_flat = X_val.reshape(-1, 32*32*3)\n",
    "\n",
    "model.summary()\n",
    "# TODO: Compile and train the model here.\n",
    "model.compile(loss='categorical_crossentropy',\n",
    "              optimizer='adam',\n",
    "              metrics=['accuracy'])\n",
    "history = model.fit(X_train_flat, Y_train,\n",
    "                    batch_size=128, nb_epoch=20,\n",
    "                    verbose=1, validation_data=(X_val_flat, Y_val))"
   ]
  },
  {
   "cell_type": "code",
   "execution_count": 44,
   "metadata": {
    "collapsed": true
   },
   "outputs": [],
   "source": [
    "# STOP: Do not change the tests below. Your implementation should pass these tests.\n",
    "assert(history.history['acc'][-1] > 0.92), \"The training accuracy was: %.3f\" % history.history['acc'][-1]\n",
    "assert(history.history['val_acc'][-1] > 0.9), \"The validation accuracy is: %.3f\" % history.history['val_acc'][-1]"
   ]
  },
  {
   "cell_type": "markdown",
   "metadata": {},
   "source": [
    "**Validation Accuracy**:  \n",
    "94.19%"
   ]
  },
  {
   "cell_type": "markdown",
   "metadata": {},
   "source": [
    "## Congratulations\n",
    "You've built a feedforward neural network in Keras!\n",
    "\n",
    "Don't stop here! Next, you'll add a convolutional layer to drive.py."
   ]
  },
  {
   "cell_type": "markdown",
   "metadata": {},
   "source": [
    "## Convolutions\n",
    "Build a new network, similar to your existing network. Before the hidden layer, add a 3x3 [convolutional layer](https://keras.io/layers/convolutional/#convolution2d) with 32 filters and valid padding.\n",
    "\n",
    "Then compile and train the network.\n",
    "\n",
    "Hint 1: The Keras example of a [convolutional neural network](https://github.com/fchollet/keras/blob/master/examples/mnist_cnn.py) for MNIST would be a good example to review.\n",
    "\n",
    "Hint 2: Now that the first layer of the network is a convolutional layer, you no longer need to reshape the input images before passing them to the network. You might need to reload your training data to recover the original shape.\n",
    "\n",
    "Hint 3: Add a [`Flatten()` layer](https://keras.io/layers/core/#flatten) between the convolutional layer and the fully-connected hidden layer."
   ]
  },
  {
   "cell_type": "code",
   "execution_count": null,
   "metadata": {
    "collapsed": false
   },
   "outputs": [],
   "source": [
    "# TODO: Re-construct the network and add a convolutional layer before the first fully-connected layer.\n",
    "\n",
    "# TODO: Compile and train the model here."
   ]
  },
  {
   "cell_type": "code",
   "execution_count": null,
   "metadata": {
    "collapsed": true
   },
   "outputs": [],
   "source": [
    "# STOP: Do not change the tests below. Your implementation should pass these tests.\n",
    "assert(history.history['val_acc'][-1] > 0.95), \"The validation accuracy is: %.3f\" % history.history['val_acc'][-1]"
   ]
  },
  {
   "cell_type": "markdown",
   "metadata": {},
   "source": [
    "**Validation Accuracy**: (fill in here)"
   ]
  },
  {
   "cell_type": "markdown",
   "metadata": {},
   "source": [
    "## Pooling\n",
    "Re-construct your network and add a 2x2 [pooling layer](https://keras.io/layers/pooling/#maxpooling2d) immediately following your convolutional layer.\n",
    "\n",
    "Then compile and train the network."
   ]
  },
  {
   "cell_type": "code",
   "execution_count": null,
   "metadata": {
    "collapsed": false
   },
   "outputs": [],
   "source": [
    "# TODO: Re-construct the network and add a pooling layer after the convolutional layer.\n",
    "\n",
    "# TODO: Compile and train the model here."
   ]
  },
  {
   "cell_type": "code",
   "execution_count": null,
   "metadata": {
    "collapsed": true
   },
   "outputs": [],
   "source": [
    "# STOP: Do not change the tests below. Your implementation should pass these tests.\n",
    "assert(history.history['val_acc'][-1] > 0.95), \"The validation accuracy is: %.3f\" % history.history['val_acc'][-1]"
   ]
  },
  {
   "cell_type": "markdown",
   "metadata": {},
   "source": [
    "**Validation Accuracy**: (fill in here)"
   ]
  },
  {
   "cell_type": "markdown",
   "metadata": {},
   "source": [
    "## Dropout\n",
    "Re-construct your network and add [dropout](https://keras.io/layers/core/#dropout) after the pooling layer. Set the dropout rate to 50%."
   ]
  },
  {
   "cell_type": "code",
   "execution_count": null,
   "metadata": {
    "collapsed": false
   },
   "outputs": [],
   "source": [
    "# TODO: Re-construct the network and add dropout after the pooling layer.\n",
    "\n",
    "# TODO: Compile and train the model here."
   ]
  },
  {
   "cell_type": "code",
   "execution_count": null,
   "metadata": {
    "collapsed": true
   },
   "outputs": [],
   "source": [
    "# STOP: Do not change the tests below. Your implementation should pass these tests.\n",
    "assert(history.history['val_acc'][-1] > 0.95), \"The validation accuracy is: %.3f\" % history.history['val_acc'][-1]"
   ]
  },
  {
   "cell_type": "markdown",
   "metadata": {
    "collapsed": true
   },
   "source": [
    "**Validation Accuracy**: (fill in here)"
   ]
  },
  {
   "cell_type": "markdown",
   "metadata": {},
   "source": [
    "## Optimization\n",
    "Congratulations! You've built a neural network with convolutions, pooling, dropout, and fully-connected layers, all in just a few lines of code.\n",
    "\n",
    "Have fun with the model and see how well you can do! Add more layers, or regularization, or different padding, or batches, or more training epochs.\n",
    "\n",
    "What is the best validation accuracy you can achieve?"
   ]
  },
  {
   "cell_type": "code",
   "execution_count": null,
   "metadata": {
    "collapsed": true
   },
   "outputs": [],
   "source": []
  },
  {
   "cell_type": "markdown",
   "metadata": {},
   "source": [
    "**Best Validation Accuracy:** (fill in here)"
   ]
  },
  {
   "cell_type": "markdown",
   "metadata": {},
   "source": [
    "## Testing\n",
    "Once you've picked out your best model, it's time to test it.\n",
    "\n",
    "Load up the test data and use the [`evaluate()` method](https://keras.io/models/model/#evaluate) to see how well it does.\n",
    "\n",
    "Hint 1: The `evaluate()` method should return an array of numbers. Use the `metrics_names()` method to get the labels."
   ]
  },
  {
   "cell_type": "code",
   "execution_count": null,
   "metadata": {
    "collapsed": false
   },
   "outputs": [],
   "source": [
    "# TODO: Load test data\n",
    "    \n",
    "# TODO: Preprocess data & one-hot encode the labels\n",
    "\n",
    "# TODO: Evaluate model on test data"
   ]
  },
  {
   "cell_type": "markdown",
   "metadata": {},
   "source": [
    "**Test Accuracy:** (fill in here)"
   ]
  },
  {
   "cell_type": "markdown",
   "metadata": {},
   "source": [
    "## Summary\n",
    "Keras is a great tool to use if you want to quickly build a neural network and evaluate performance."
   ]
  }
 ],
 "metadata": {
  "anaconda-cloud": {},
  "kernelspec": {
   "display_name": "Python 3",
   "language": "python",
   "name": "python3"
  },
  "language_info": {
   "codemirror_mode": {
    "name": "ipython",
    "version": 3
   },
   "file_extension": ".py",
   "mimetype": "text/x-python",
   "name": "python",
   "nbconvert_exporter": "python",
   "pygments_lexer": "ipython3",
   "version": "3.5.2"
  }
 },
 "nbformat": 4,
 "nbformat_minor": 0
}
